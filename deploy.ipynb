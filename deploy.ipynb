{
 "cells": [
  {
   "cell_type": "code",
   "execution_count": null,
   "id": "bcf8e164-1819-4efc-bb9c-ab5c580a881a",
   "metadata": {},
   "outputs": [],
   "source": [
    "from web3 import Web3\n",
    "\n",
    "RPC_URL = ''\n",
    "CREATE2_DEPLOYER_ADDR = '0x13b0D85CcB8bf860b6b79AF3029fCA081AE9beF2'\n",
    "CREATE2_DEPLOYER_ABI = '[{\"inputs\":[{\"internalType\":\"uint256\",\"name\":\"value\",\"type\":\"uint256\"},{\"internalType\":\"bytes32\",\"name\":\"salt\",\"type\":\"bytes32\"},{\"internalType\":\"bytes\",\"name\":\"code\",\"type\":\"bytes\"}],\"name\":\"deploy\",\"outputs\":[],\"stateMutability\":\"nonpayable\",\"type\":\"function\"}]'\n",
    "\n",
    "CHECKER_SALT = '0xfb05a9cdb2ed6c758933a7c6217c92b1cfc674636d4275e58f61c8a472daf019'\n",
    "CHECKER_CODE = '0x60a060405234801561001057600080fd5b506a605f60f81b3d5260013df360a81b600081815290600b8280f06001600160a01b0316608052505060805160ef61005160003960006057015260ef6000f3fe6080604052348015600f57600080fd5b506004361060285760003560e01c8063919840ad14602d575b600080fd5b60336047565b604051901515815260200160405180910390f35b6040516000906001600160a01b037f0000000000000000000000000000000000000000000000000000000000000000169082818181855afa9150503d806000811460ac576040519150601f19603f3d011682016040523d82523d6000602084013e60b1565b606091505b50909291505056fea2646970667358221220153c4b19dad923dfc98595b2e8af152a8137e93dfb6a60f2d7e3a6a48190baf564736f6c63430008180033'\n",
    "\n",
    "w3 = Web3(Web3.HTTPProvider(RPC_URL))\n",
    "create2_deployer = w3.eth.contract(address=CREATE2_DEPLOYER_ADDR, abi=CREATE2_DEPLOYER_ABI)\n",
    "create2_deployer.functions.deploy(0, CHECKER_SALT, CHECKER_CODE).transact()"
   ]
  },
  {
   "cell_type": "markdown",
   "id": "0457a368-d4e2-4687-aac2-97f73806b2fc",
   "metadata": {},
   "source": [
    "Successful deployment will create contrat at the address 0xd59431D244F1B67925fB1Edd1EBa3d44348956b7.\n",
    "\n",
    "For block explorer verification you can use the source from `contracts/Push0Checker.sol` with the following config:\n",
    "\n",
    "- Solidity v0.8.24+commit.e11b9ed9\n",
    "- optimizations enabled\n",
    "- runs 0\n",
    "- EVM version Paris\n",
    "- License MIT"
   ]
  }
 ],
 "metadata": {
  "kernelspec": {
   "display_name": "Python 3 (ipykernel)",
   "language": "python",
   "name": "python3"
  },
  "language_info": {
   "codemirror_mode": {
    "name": "ipython",
    "version": 3
   },
   "file_extension": ".py",
   "mimetype": "text/x-python",
   "name": "python",
   "nbconvert_exporter": "python",
   "pygments_lexer": "ipython3",
   "version": "3.11.7"
  }
 },
 "nbformat": 4,
 "nbformat_minor": 5
}
