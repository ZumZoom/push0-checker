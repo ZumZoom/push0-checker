{
 "cells": [
  {
   "cell_type": "markdown",
   "id": "1e29fd9e-ddaf-4ca5-b14f-66c99bd3f4c1",
   "metadata": {},
   "source": [
    "Populate config for all the known networks"
   ]
  },
  {
   "cell_type": "code",
   "execution_count": 2,
   "id": "f4177bea-0d77-4375-a4d1-4a2dd5e46790",
   "metadata": {},
   "outputs": [],
   "source": [
    "CHECKER_ADDR = '0xd59431D244F1B67925fB1Edd1EBa3d44348956b7'\n",
    "CHECKER_ABI = '[{\"inputs\":[],\"name\":\"check\",\"outputs\":[{\"internalType\":\"bool\",\"name\":\"result\",\"type\":\"bool\"}],\"stateMutability\":\"view\",\"type\":\"function\"}]'\n",
    "\n",
    "NETWORKS = {\n",
    "    'Ethereum': 'https://ethereum.publicnode.com',\n",
    "    'Binance Smart Chain': 'https://bsc.publicnode.com',\n",
    "    'Optimism': 'https://optimism.publicnode.com',\n",
    "    'Arbitrum One': 'https://arbitrum-one.publicnode.com',\n",
    "    'Polygon': 'https://polygon-bor.publicnode.com',\n",
    "    'Fantom': 'https://fantom.publicnode.com',\n",
    "    'Avalanche': 'https://avalanche-c-chain.publicnode.com',\n",
    "    'Gnosis Chain': 'https://gnosis.publicnode.com',\n",
    "    'Aurora': 'https://mainnet.aurora.dev',\n",
    "    'Base': 'https://base.publicnode.com',\n",
    "}"
   ]
  },
  {
   "cell_type": "markdown",
   "id": "e7b323fb-e0b0-4a8e-bc71-b727bf250098",
   "metadata": {},
   "source": [
    "Check all the known networks and populate `results` dictionary with data like this `{ 'Ethereum': True }`"
   ]
  },
  {
   "cell_type": "code",
   "execution_count": 3,
   "id": "f25d66ca-6a53-47f3-8fa3-85869aa5385e",
   "metadata": {},
   "outputs": [],
   "source": [
    "from multiprocessing.pool import ThreadPool as Pool\n",
    "from web3 import Web3\n",
    "\n",
    "def is_push0_supported(network, url):\n",
    "    w3 = Web3(Web3.HTTPProvider(url))\n",
    "    checker = w3.eth.contract(address=CHECKER_ADDR, abi=CHECKER_ABI)\n",
    "    return network, checker.functions.check().call()\n",
    "\n",
    "with Pool(10) as p:\n",
    "    results = { result[0]: result[1] for result in p.starmap(is_push0_supported, NETWORKS.items()) }"
   ]
  },
  {
   "cell_type": "markdown",
   "id": "a3c2ca94-b9f2-46c7-81fe-371a44a9cbff",
   "metadata": {},
   "source": [
    "Create html table using gathered data"
   ]
  },
  {
   "cell_type": "code",
   "execution_count": 4,
   "id": "7bf60df9-9798-4467-b10a-9682d76c2770",
   "metadata": {},
   "outputs": [
    {
     "data": {
      "text/html": [
       "<style type=\"text/css\">\n",
       "#T_a76b3 thead {\n",
       "  display: none;\n",
       "}\n",
       "#T_a76b3 tr {\n",
       "  background-color: #e6ffe6;\n",
       "}\n",
       "#T_a76b3 tr + tr {\n",
       "  background-color: #e6ffe6;\n",
       "}\n",
       "#T_a76b3 tr + tr + tr {\n",
       "  background-color: #e6ffe6;\n",
       "}\n",
       "#T_a76b3 tr + tr + tr + tr {\n",
       "  background-color: #e6ffe6;\n",
       "}\n",
       "#T_a76b3 tr + tr + tr + tr + tr {\n",
       "  background-color: #e6ffe6;\n",
       "}\n",
       "#T_a76b3 tr + tr + tr + tr + tr + tr {\n",
       "  background-color: #ffe6e6;\n",
       "}\n",
       "#T_a76b3 tr + tr + tr + tr + tr + tr + tr {\n",
       "  background-color: #ffe6e6;\n",
       "}\n",
       "#T_a76b3 tr + tr + tr + tr + tr + tr + tr + tr {\n",
       "  background-color: #e6ffe6;\n",
       "}\n",
       "#T_a76b3 tr + tr + tr + tr + tr + tr + tr + tr + tr {\n",
       "  background-color: #e6ffe6;\n",
       "}\n",
       "#T_a76b3 tr + tr + tr + tr + tr + tr + tr + tr + tr + tr {\n",
       "  background-color: #e6ffe6;\n",
       "}\n",
       "</style>\n",
       "<table id=\"T_a76b3\">\n",
       "  <thead>\n",
       "    <tr>\n",
       "      <th class=\"blank level0\" >&nbsp;</th>\n",
       "      <th id=\"T_a76b3_level0_col0\" class=\"col_heading level0 col0\" >0</th>\n",
       "    </tr>\n",
       "  </thead>\n",
       "  <tbody>\n",
       "    <tr>\n",
       "      <th id=\"T_a76b3_level0_row0\" class=\"row_heading level0 row0\" >Ethereum</th>\n",
       "      <td id=\"T_a76b3_row0_col0\" class=\"data row0 col0\" >Yes</td>\n",
       "    </tr>\n",
       "    <tr>\n",
       "      <th id=\"T_a76b3_level0_row1\" class=\"row_heading level0 row1\" >Binance Smart Chain</th>\n",
       "      <td id=\"T_a76b3_row1_col0\" class=\"data row1 col0\" >Yes</td>\n",
       "    </tr>\n",
       "    <tr>\n",
       "      <th id=\"T_a76b3_level0_row2\" class=\"row_heading level0 row2\" >Optimism</th>\n",
       "      <td id=\"T_a76b3_row2_col0\" class=\"data row2 col0\" >Yes</td>\n",
       "    </tr>\n",
       "    <tr>\n",
       "      <th id=\"T_a76b3_level0_row3\" class=\"row_heading level0 row3\" >Arbitrum One</th>\n",
       "      <td id=\"T_a76b3_row3_col0\" class=\"data row3 col0\" >Yes</td>\n",
       "    </tr>\n",
       "    <tr>\n",
       "      <th id=\"T_a76b3_level0_row4\" class=\"row_heading level0 row4\" >Polygon</th>\n",
       "      <td id=\"T_a76b3_row4_col0\" class=\"data row4 col0\" >Yes</td>\n",
       "    </tr>\n",
       "    <tr>\n",
       "      <th id=\"T_a76b3_level0_row5\" class=\"row_heading level0 row5\" >Fantom</th>\n",
       "      <td id=\"T_a76b3_row5_col0\" class=\"data row5 col0\" >No</td>\n",
       "    </tr>\n",
       "    <tr>\n",
       "      <th id=\"T_a76b3_level0_row6\" class=\"row_heading level0 row6\" >Avalanche</th>\n",
       "      <td id=\"T_a76b3_row6_col0\" class=\"data row6 col0\" >No</td>\n",
       "    </tr>\n",
       "    <tr>\n",
       "      <th id=\"T_a76b3_level0_row7\" class=\"row_heading level0 row7\" >Gnosis Chain</th>\n",
       "      <td id=\"T_a76b3_row7_col0\" class=\"data row7 col0\" >Yes</td>\n",
       "    </tr>\n",
       "    <tr>\n",
       "      <th id=\"T_a76b3_level0_row8\" class=\"row_heading level0 row8\" >Aurora</th>\n",
       "      <td id=\"T_a76b3_row8_col0\" class=\"data row8 col0\" >Yes</td>\n",
       "    </tr>\n",
       "    <tr>\n",
       "      <th id=\"T_a76b3_level0_row9\" class=\"row_heading level0 row9\" >Base</th>\n",
       "      <td id=\"T_a76b3_row9_col0\" class=\"data row9 col0\" >Yes</td>\n",
       "    </tr>\n",
       "  </tbody>\n",
       "</table>\n"
      ],
      "text/plain": [
       "<pandas.io.formats.style.Styler at 0x155d2a890>"
      ]
     },
     "execution_count": 4,
     "metadata": {},
     "output_type": "execute_result"
    }
   ],
   "source": [
    "import pandas as pd\n",
    "\n",
    "df = pd.DataFrame(\n",
    "    [['Yes' if x else 'No'] for x in results.values()],\n",
    "    index=pd.Index(results.keys()),\n",
    ")\n",
    "row_colors = ['background-color: #e6ffe6;' if x else 'background-color: #ffe6e6;' for x in results.values()]\n",
    "df.style.set_table_styles([\n",
    "    {'selector': 'thead', 'props': [('display', 'none')]},\n",
    "    *({'selector': ' + '.join(['tr'] * (i + 1)), 'props': f'{row_colors[i]}'} for i in range(len(row_colors)))\n",
    "])"
   ]
  },
  {
   "cell_type": "code",
   "execution_count": null,
   "id": "cf9e56f7-b266-4323-ac44-d4940fa03ba4",
   "metadata": {},
   "outputs": [],
   "source": []
  }
 ],
 "metadata": {
  "kernelspec": {
   "display_name": "Python 3 (ipykernel)",
   "language": "python",
   "name": "python3"
  },
  "language_info": {
   "codemirror_mode": {
    "name": "ipython",
    "version": 3
   },
   "file_extension": ".py",
   "mimetype": "text/x-python",
   "name": "python",
   "nbconvert_exporter": "python",
   "pygments_lexer": "ipython3",
   "version": "3.11.7"
  }
 },
 "nbformat": 4,
 "nbformat_minor": 5
}
