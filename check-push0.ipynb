{
 "cells": [
  {
   "cell_type": "markdown",
   "id": "1e29fd9e-ddaf-4ca5-b14f-66c99bd3f4c1",
   "metadata": {},
   "source": [
    "Populate config for all the known networks"
   ]
  },
  {
   "cell_type": "code",
   "execution_count": 1,
   "id": "f4177bea-0d77-4375-a4d1-4a2dd5e46790",
   "metadata": {},
   "outputs": [],
   "source": [
    "CHECKER_ADDR = '0xd59431D244F1B67925fB1Edd1EBa3d44348956b7'\n",
    "CHECKER_ABI = '[{\"inputs\":[],\"name\":\"check\",\"outputs\":[{\"internalType\":\"bool\",\"name\":\"result\",\"type\":\"bool\"}],\"stateMutability\":\"view\",\"type\":\"function\"}]'\n",
    "\n",
    "NETWORKS = {\n",
    "    'Ethereum': 'https://ethereum.publicnode.com',\n",
    "    'Binance Smart Chain': 'https://bsc.publicnode.com',\n",
    "    'Optimism': 'https://optimism.publicnode.com',\n",
    "    'Arbitrum One': 'https://arbitrum-one.publicnode.com',\n",
    "    'Polygon': 'https://polygon-bor.publicnode.com',\n",
    "    'Fantom': 'https://fantom.publicnode.com',\n",
    "    'Avalanche': 'https://avalanche-c-chain.publicnode.com',\n",
    "    'Gnosis Chain': 'https://gnosis.publicnode.com',\n",
    "    'Aurora': 'https://mainnet.aurora.dev',\n",
    "    'Base': 'https://base.publicnode.com',\n",
    "    'Klaytn': 'https://1rpc.io/klay',\n",
    "    'zkSync Era': 'https://mainnet.era.zksync.io',\n",
    "}\n",
    "\n",
    "CUSTOM_ADDRESSES = {\n",
    "    'Klaytn': '0x7aB5194e730C4eC4a9d1d7f1DCAD9c173075888A',\n",
    "    'zkSync Era': '0x3a23984F0E0dA1e8A5c4190D35d7be3e80409691',\n",
    "}"
   ]
  },
  {
   "cell_type": "markdown",
   "id": "e7b323fb-e0b0-4a8e-bc71-b727bf250098",
   "metadata": {},
   "source": [
    "Check all the known networks and populate `results` dictionary with data like this `{ 'Ethereum': True }`"
   ]
  },
  {
   "cell_type": "code",
   "execution_count": 2,
   "id": "f25d66ca-6a53-47f3-8fa3-85869aa5385e",
   "metadata": {},
   "outputs": [],
   "source": [
    "from multiprocessing.pool import ThreadPool as Pool\n",
    "from web3 import Web3\n",
    "\n",
    "def is_push0_supported(network, url):\n",
    "    w3 = Web3(Web3.HTTPProvider(url))\n",
    "    checker = w3.eth.contract(address=CUSTOM_ADDRESSES[network] if network in CUSTOM_ADDRESSES else CHECKER_ADDR, abi=CHECKER_ABI)\n",
    "    return network, checker.functions.check().call()\n",
    "\n",
    "with Pool(10) as p:\n",
    "    results = { result[0]: result[1] for result in p.starmap(is_push0_supported, NETWORKS.items()) }"
   ]
  },
  {
   "cell_type": "markdown",
   "id": "a3c2ca94-b9f2-46c7-81fe-371a44a9cbff",
   "metadata": {},
   "source": [
    "Create html table using gathered data"
   ]
  },
  {
   "cell_type": "code",
   "execution_count": 3,
   "id": "cf9e56f7-b266-4323-ac44-d4940fa03ba4",
   "metadata": {},
   "outputs": [],
   "source": [
    "prefix = \"\"\"<!DOCTYPE html>\n",
    "<html lang=\"en\">\n",
    "<head>\n",
    "    <meta charset=\"UTF-8\">\n",
    "    <meta name=\"viewport\" content=\"width=device-width, initial-scale=1.0\">\n",
    "    <title>Is PUSH0 already supported?</title>\n",
    "    <style>\n",
    "        body {\n",
    "            font-family: Arial, sans-serif;\n",
    "            margin: 0;\n",
    "            padding: 0;\n",
    "            background-color: #ECF0F9; /* Light pastel blue background */\n",
    "            color: #2C3E50; /* Darker text for better readability */\n",
    "            display: flex;\n",
    "            justify-content: center;\n",
    "            align-items: center;\n",
    "            height: 100vh;\n",
    "        }\n",
    "        .container {\n",
    "            max-width: 600px; /* Ensures table does not exceed the container's width */\n",
    "            text-align: center;\n",
    "        }\n",
    "        table {\n",
    "            border-collapse: collapse;\n",
    "            width: 80%;\n",
    "            margin: 20px auto; /* Center table */\n",
    "        }\n",
    "        td {\n",
    "            text-align: left;\n",
    "            padding: 8px;\n",
    "            border: 1px solid #BDC3C7; /* Adjusted border color for visibility */\n",
    "            color: #34495E; /* Even darker text for rows for contrast */\n",
    "            font-size: 20px; \n",
    "        }\n",
    "        .yes {\n",
    "            background-color: #C2F0C2; /* Soft green, consider making it slightly lighter if needed */\n",
    "            color: #27AE60; /* Dark green text for readability */\n",
    "        }\n",
    "        .no {\n",
    "            background-color: #F0C2C2; /* Soft red, consider making it slightly lighter if needed */\n",
    "            color: #C0392B; /* Dark red text for readability */\n",
    "        }\n",
    "        .bold {\n",
    "            font-weight: bold; /* CSS for making text bold */\n",
    "        }\n",
    "        img.logo {\n",
    "            width: 200px; /* Adjust size as needed */\n",
    "            margin-bottom: -10px;\n",
    "        }\n",
    "    </style>\n",
    "</head>\n",
    "<body>\n",
    "\n",
    "<div class=\"container\">\n",
    "    <img src=\"ethereum-shanghai-logo.webp\" alt=\"Ethereum-Shanghai Logo\" class=\"logo\">\n",
    "    <h1>Is PUSH0 already supported?</h1>\n",
    "    <table>\n",
    "\"\"\"\n",
    "\n",
    "table = ''\n",
    "\n",
    "for k, v in results.items():\n",
    "    class_value = 'yes' if v else 'no'\n",
    "    table_text = 'Yes' if v else 'No'\n",
    "    table += f\"\"\"        <tr class=\"{class_value}\">\n",
    "            <td class=\"bold\">{k}</td>\n",
    "            <td>{table_text}</td>\n",
    "        </tr>\n",
    "\"\"\"\n",
    "\n",
    "suffix = \"\"\"\n",
    "    </table>\n",
    "</div>\n",
    "\n",
    "</body>\n",
    "</html>\n",
    "\"\"\"\n",
    "\n",
    "with open('docs/index.html', 'w') as out_f:\n",
    "    print(prefix + table[:-1] + suffix, file=out_f)"
   ]
  },
  {
   "cell_type": "code",
   "execution_count": null,
   "id": "0f02447a-0064-4ca3-9334-41011ab49656",
   "metadata": {},
   "outputs": [],
   "source": []
  }
 ],
 "metadata": {
  "kernelspec": {
   "display_name": "Python 3 (ipykernel)",
   "language": "python",
   "name": "python3"
  },
  "language_info": {
   "codemirror_mode": {
    "name": "ipython",
    "version": 3
   },
   "file_extension": ".py",
   "mimetype": "text/x-python",
   "name": "python",
   "nbconvert_exporter": "python",
   "pygments_lexer": "ipython3",
   "version": "3.11.7"
  }
 },
 "nbformat": 4,
 "nbformat_minor": 5
}
